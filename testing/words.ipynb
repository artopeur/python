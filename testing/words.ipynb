{
 "cells": [
  {
   "cell_type": "markdown",
   "id": "746cce09",
   "metadata": {},
   "source": [
    "# The idea\n",
    "\n",
    "The idea is to write a code that looks through user input sentenses and categorizes them by length, verbs or adjectives.\n",
    "\n",
    "Trying to figure out how input and output works best to achieve this.\n",
    "\n"
   ]
  },
  {
   "cell_type": "code",
   "execution_count": 1,
   "id": "f533f1cd",
   "metadata": {},
   "outputs": [
    {
     "name": "stdout",
     "output_type": "stream",
     "text": [
      "starting\n",
      "read.\n",
      "testing, is, fun, happy, as, a, marakeet, hurt, in, the, heart\n",
      "\n",
      "['testing', 1, 1, 7], ['is', 1, 1, 2], ['fun', 1, 1, 3], ['happy', 1, 1, 5], ['as', 1, 1, 2], ['a', 1, 1, 1], ['marakeet', 1, 1, 8], ['hurt', 1, 1, 4], ['in', 1, 1, 2], ['the', 1, 1, 3], ['heart', 1, 1, 5]\n",
      "\n",
      "testing, is, fun, happy, as, a, marakeet, hurt, in, the, heart\n",
      "\n",
      "written.\n"
     ]
    }
   ],
   "source": [
    "\n",
    "import in_and_out as w\n",
    "\n",
    "print(\"starting\")\n",
    "input_string=\"start\"\n",
    "input_string = w.get_saved_from_database(\"text_db\")\n",
    "\n",
    "if input_string != \"\":\n",
    "    #print(f\"input given: input is: {input_string}\")\n",
    "    \n",
    "    array_of_words=w.transform_text_to_array(input_string)\n",
    "    w.print_word_list(array_of_words)\n",
    "    categorized = w.categorize_word_list(array_of_words)\n",
    "    print(\"\\n\")\n",
    "    w.print_word_list(categorized)\n",
    "    print(\"\\n\")\n",
    "    altered = w.clear_duplicates(array_of_words)\n",
    "    w.print_word_list(altered)\n",
    "    print(\"\\n\")\n",
    "    #for word in array_of_words: \n",
    "    #    print(word, \",\")\n",
    "    w.save_categorized(categorized,\"saved_file.txt\")\n",
    "\n",
    "else:\n",
    "    print(\"no input given.\")"
   ]
  }
 ],
 "metadata": {
  "kernelspec": {
   "display_name": "env",
   "language": "python",
   "name": "python3"
  },
  "language_info": {
   "codemirror_mode": {
    "name": "ipython",
    "version": 3
   },
   "file_extension": ".py",
   "mimetype": "text/x-python",
   "name": "python",
   "nbconvert_exporter": "python",
   "pygments_lexer": "ipython3",
   "version": "3.12.9"
  }
 },
 "nbformat": 4,
 "nbformat_minor": 5
}
