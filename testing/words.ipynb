{
 "cells": [
  {
   "cell_type": "markdown",
   "id": "746cce09",
   "metadata": {},
   "source": [
    "# The idea\n",
    "\n",
    "The idea is to write a code that looks through user input sentenses and categorizes them by length, verbs or adjectives.\n",
    "\n",
    "Trying to figure out how input and output works best to achieve this.\n",
    "\n"
   ]
  },
  {
   "cell_type": "code",
   "execution_count": 3,
   "id": "f533f1cd",
   "metadata": {},
   "outputs": [
    {
     "name": "stdout",
     "output_type": "stream",
     "text": [
      "starting\n",
      "read.\n",
      "test, happy, hurt, hunting, gone, away, test, happy, hurt, hunting, gone, away, test, happy, hurt, hunting, gone, away, test, happy\n",
      "hurt, hunting, gone, away, caught\n",
      "\n",
      "happy, hurt, hunting, gone, away, happy, hurt, hunting, gone, away, happy, hurt, hunting, gone, away, happy, hurt, hunting, gone, away\n",
      "caughtwritten.\n"
     ]
    }
   ],
   "source": [
    "import words as w\n",
    "\n",
    "print(\"starting\")\n",
    "input_string=\"start\"\n",
    "input_string = w.get_saved_from_database(\"test\")\n",
    "\n",
    "if input_string != \"\":\n",
    "    #print(f\"input given: input is: {input_string}\")\n",
    "    \n",
    "    array_of_words=w.transform_text_to_array(input_string)\n",
    "    w.print_word_list(array_of_words)\n",
    "    print(\"\\n\")\n",
    "\n",
    "    altered = w.clear_duplicates(array_of_words)\n",
    "    w.print_word_list(altered)\n",
    "    #for word in array_of_words: \n",
    "    #    print(word, \",\")\n",
    "    w.save_to_database(array_of_words)\n",
    "\n",
    "else:\n",
    "    print(\"no input given.\")"
   ]
  }
 ],
 "metadata": {
  "kernelspec": {
   "display_name": "env",
   "language": "python",
   "name": "python3"
  },
  "language_info": {
   "codemirror_mode": {
    "name": "ipython",
    "version": 3
   },
   "file_extension": ".py",
   "mimetype": "text/x-python",
   "name": "python",
   "nbconvert_exporter": "python",
   "pygments_lexer": "ipython3",
   "version": "3.12.9"
  }
 },
 "nbformat": 4,
 "nbformat_minor": 5
}
