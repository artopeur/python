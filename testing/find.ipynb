{
 "cells": [
  {
   "cell_type": "markdown",
   "id": "2538eb58",
   "metadata": {},
   "source": [
    "# Beginnings of the code base\n",
    "\n",
    "- Input, output, lists, tuples, etc..."
   ]
  },
  {
   "cell_type": "code",
   "execution_count": 37,
   "id": "4170b550",
   "metadata": {},
   "outputs": [
    {
     "name": "stdout",
     "output_type": "stream",
     "text": [
      "not equal. a=1, b=22\n",
      "making equal\n",
      "Should now be equal, let's see\n",
      "are now equal.. a=22, b=22 \n",
      "\n",
      "this is to see this test.\n",
      "Exists. So, let's chop this and see where it is.\n",
      "res='test', 6\n",
      "['this', 'is', 'to', 'see', 'this', 'test']\n",
      "This is a test to see where it is.\n",
      "This is a test to see where it is.\n",
      "Exists. So, let's chop this and see where it is.\n",
      "res='test', 4\n",
      "['This', 'is', 'a', 'test', 'to', 'see', 'where', 'it', 'is']\n"
     ]
    }
   ],
   "source": [
    "import find as f\n",
    "\n",
    "#check_if_equal_replace_with_b(a,b)\n",
    "\n",
    "a = 1\n",
    "b = 22\n",
    "\n",
    "f.check_if_equal_replace_with_b(a,b)\n",
    "input_string = \"this is to see this test.\"\n",
    "to_find = \"test\"\n",
    "res = \"\"\n",
    "(res,location,char_list) = f.find_string(input_string, to_find)\n",
    "print(f\"{res=}, {location}\")\n",
    "print(char_list)\n",
    "input_string = \"This is a test, to see where it is.\"\n",
    "to_find = \"test\"\n",
    "input_string = input_string.replace(',','')\n",
    "print(input_string)\n",
    "res,location,char_list = f.find_string(input_string, to_find)\n",
    "print(f\"{res=}, {location}\")\n",
    "print(char_list)\n"
   ]
  }
 ],
 "metadata": {
  "kernelspec": {
   "display_name": "env",
   "language": "python",
   "name": "python3"
  },
  "language_info": {
   "codemirror_mode": {
    "name": "ipython",
    "version": 3
   },
   "file_extension": ".py",
   "mimetype": "text/x-python",
   "name": "python",
   "nbconvert_exporter": "python",
   "pygments_lexer": "ipython3",
   "version": "3.12.9"
  }
 },
 "nbformat": 4,
 "nbformat_minor": 5
}
