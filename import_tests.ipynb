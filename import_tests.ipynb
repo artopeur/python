{
 "cells": [
  {
   "cell_type": "markdown",
   "id": "ce53727b",
   "metadata": {},
   "source": [
    "# Import testing\n"
   ]
  },
  {
   "cell_type": "code",
   "execution_count": 1,
   "id": "fe08c778",
   "metadata": {},
   "outputs": [
    {
     "name": "stdout",
     "output_type": "stream",
     "text": [
      "['Hi', 1, 1, 2], ['how', 1, 1, 3], ['are', 1, 1, 3], ['you', 1, 1, 3], ['?', 1, 1, 1], [\"I'm\", 1, 1, 3], ['adding', 1, 1, 6], ['a', 1, 1, 1], ['new', 1, 1, 3], ['sentense', 1, 1, 8], ['Please', 1, 1, 6], ['give', 1, 1, 4], ['me', 1, 1, 2], ['some', 1, 1, 4], ['output', 1, 1, 6], ['Another', 1, 1, 7], ['day', 1, 1, 3], ['another', 1, 1, 7], ['gray', 1, 1, 4], ['there', 1, 1, 5]\n",
      "['What', 1, 1, 4], ['the', 1, 1, 3], ['heck', 1, 1, 4], ['come', 1, 1, 4], ['here', 1, 1, 4], ['now', 1, 1, 3], ['This', 1, 1, 4], ['is', 1, 1, 2], ['test', 1, 1, 4], ['2', 1, 1, 1], ['A', 1, 1, 1], ['good', 1, 1, 4], ['Good', 1, 1, 4], ['to', 1, 1, 2], ['again', 1, 1, 5], ['line', 1, 1, 4], ['this', 1, 1, 4], ['Run', 1, 1, 3], ['away', 1, 1, 4], ['dude', 1, 1, 4]\n",
      "['Come', 1, 1, 4], ['date', 1, 1, 4], ['All', 1, 1, 3], ['words', 1, 1, 5], ['happening', 1, 1, 9], ['I', 1, 1, 1], ['am', 1, 1, 2], ['worried', 1, 1, 7], ['about', 1, 1, 5], ['hard', 1, 1, 4], [\"Let's\", 1, 1, 5], ['see', 1, 1, 3], ['if', 1, 1, 2], ['and', 1, 1, 3], ['apostrophies', 1, 1, 1], ['work', 1, 1, 4], ['add', 1, 1, 3], ['more', 1, 1, 4], ['fish', 1, 1, 4], ['fine', 1, 1, 4]\n",
      "['dandy', 1, 1, 5], ['thing', 1, 1, 5], ['Collecting', 1, 1, 1], ['sentenses', 1, 1, 9], ['fun', 1, 1, 3], ['right', 1, 1, 5], ['test', 1, 1, 2], ['happy', 1, 3, 3], ['hurt', 12, 4, 3], ['hunting', 1, 2, 3], ['gone', 1, 2, 3], ['away', 1, 2, 3], ['caught', 1, 4, 3], ['lost', 1, 2, 3]\n",
      "\n",
      "\n",
      "['Hi', 1, 1, 2], ['how', 1, 1, 3], ['are', 1, 1, 3], ['you', 1, 1, 3], ['?', 1, 1, 1], [\"I'm\", 1, 1, 3], ['adding', 1, 1, 6], ['a', 1, 1, 1], ['new', 1, 1, 3], ['sentense', 1, 1, 8], ['Please', 1, 1, 6], ['give', 1, 1, 4], ['me', 1, 1, 2], ['some', 1, 1, 4], ['output', 1, 1, 6], ['Another', 1, 1, 7], ['day', 1, 1, 3], ['another', 1, 1, 7], ['gray', 1, 1, 4], ['there', 1, 1, 5]\n",
      "['What', 1, 1, 4], ['the', 1, 1, 3], ['heck', 1, 1, 4], ['come', 1, 1, 4], ['here', 1, 1, 4], ['now', 1, 1, 3], ['This', 1, 1, 4], ['is', 1, 1, 2], ['test', 1, 1, 4], ['2', 1, 1, 1], ['A', 1, 1, 1], ['good', 1, 1, 4], ['Good', 1, 1, 4], ['to', 1, 1, 2], ['again', 1, 1, 5], ['line', 1, 1, 4], ['this', 1, 1, 4], ['Run', 1, 1, 3], ['away', 1, 1, 4], ['dude', 1, 1, 4]\n",
      "['Come', 1, 1, 4], ['date', 1, 1, 4], ['All', 1, 1, 3], ['words', 1, 1, 5], ['happening', 1, 1, 9], ['I', 1, 1, 1], ['am', 1, 1, 2], ['worried', 1, 1, 7], ['about', 1, 1, 5], ['hard', 1, 1, 4], [\"Let's\", 1, 1, 5], ['see', 1, 1, 3], ['if', 1, 1, 2], ['and', 1, 1, 3], ['apostrophies', 1, 1, 1], ['work', 1, 1, 4], ['add', 1, 1, 3], ['more', 1, 1, 4], ['fish', 1, 1, 4], ['fine', 1, 1, 4]\n",
      "['dandy', 1, 1, 5], ['thing', 1, 1, 5], ['Collecting', 1, 1, 1], ['sentenses', 1, 1, 9], ['fun', 1, 1, 3], ['right', 1, 1, 5], ['test', 1, 1, 2], ['happy', 1, 3, 3], ['hurt', 12, 4, 3], ['hunting', 1, 2, 3], ['gone', 1, 2, 3], ['away', 1, 2, 3], ['caught', 1, 4, 3], ['lost', 1, 2, 3]\n",
      "\n",
      "\n",
      "['2', 1, 1, 1], ['?', 1, 1, 1], ['A', 1, 1, 1], ['All', 1, 1, 3], ['Another', 1, 1, 7], ['Collecting', 1, 1, 1], ['Come', 1, 1, 4], ['Good', 1, 1, 4], ['Hi', 1, 1, 2], ['I', 1, 1, 1], [\"I'm\", 1, 1, 3], [\"Let's\", 1, 1, 5], ['Please', 1, 1, 6], ['Run', 1, 1, 3], ['This', 1, 1, 4], ['What', 1, 1, 4], ['a', 1, 1, 1], ['about', 1, 1, 5], ['add', 1, 1, 3], ['adding', 1, 1, 6]\n",
      "['again', 1, 1, 5], ['am', 1, 1, 2], ['and', 1, 1, 3], ['another', 1, 1, 7], ['apostrophies', 1, 1, 1], ['are', 1, 1, 3], ['away', 1, 1, 4], ['away', 1, 2, 3], ['caught', 1, 4, 3], ['come', 1, 1, 4], ['dandy', 1, 1, 5], ['date', 1, 1, 4], ['day', 1, 1, 3], ['dude', 1, 1, 4], ['fine', 1, 1, 4], ['fish', 1, 1, 4], ['fun', 1, 1, 3], ['give', 1, 1, 4], ['gone', 1, 2, 3], ['good', 1, 1, 4]\n",
      "['gray', 1, 1, 4], ['happening', 1, 1, 9], ['happy', 1, 3, 3], ['hard', 1, 1, 4], ['heck', 1, 1, 4], ['here', 1, 1, 4], ['how', 1, 1, 3], ['hunting', 1, 2, 3], ['hurt', 12, 4, 3], ['if', 1, 1, 2], ['is', 1, 1, 2], ['line', 1, 1, 4], ['lost', 1, 2, 3], ['me', 1, 1, 2], ['more', 1, 1, 4], ['new', 1, 1, 3], ['now', 1, 1, 3], ['output', 1, 1, 6], ['right', 1, 1, 5], ['see', 1, 1, 3]\n",
      "['sentense', 1, 1, 8], ['sentenses', 1, 1, 9], ['some', 1, 1, 4], ['test', 1, 1, 2], ['test', 1, 1, 4], ['the', 1, 1, 3], ['there', 1, 1, 5], ['thing', 1, 1, 5], ['this', 1, 1, 4], ['to', 1, 1, 2], ['words', 1, 1, 5], ['work', 1, 1, 4], ['worried', 1, 1, 7], ['you', 1, 1, 3]\n",
      "\n",
      "\n"
     ]
    }
   ],
   "source": [
    "import modules.in_and_out as io\n",
    "\n",
    "test = io.read_categorized(\"./test2_db\")\n",
    "\n",
    "io.print_word_list(test)\n",
    "print(\"\\n\\n\")\n",
    "#io.clear_duplicates(test)\n",
    "\n",
    "io.print_word_list(test)\n",
    "print(\"\\n\\n\")\n",
    "\n",
    "test.sort()\n",
    "\n",
    "io.print_word_list(test)\n",
    "print(\"\\n\\n\")\n"
   ]
  }
 ],
 "metadata": {
  "kernelspec": {
   "display_name": "env",
   "language": "python",
   "name": "python3"
  },
  "language_info": {
   "codemirror_mode": {
    "name": "ipython",
    "version": 3
   },
   "file_extension": ".py",
   "mimetype": "text/x-python",
   "name": "python",
   "nbconvert_exporter": "python",
   "pygments_lexer": "ipython3",
   "version": "3.12.9"
  }
 },
 "nbformat": 4,
 "nbformat_minor": 5
}
